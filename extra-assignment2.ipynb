{
 "cells": [
  {
   "cell_type": "code",
   "execution_count": 9,
   "id": "c778c9cf",
   "metadata": {},
   "outputs": [
    {
     "name": "stdout",
     "output_type": "stream",
     "text": [
      "0\n",
      "1\n",
      "2\n",
      "3\n",
      "4\n",
      "5\n",
      "6\n",
      "7\n",
      "8\n",
      "9\n",
      "10\n",
      "11\n",
      "12\n",
      "13\n",
      "14\n",
      "15\n",
      "16\n",
      "17\n",
      "18\n",
      "19\n"
     ]
    }
   ],
   "source": [
    "for num in range(0,20):\n",
    "    print(num)"
   ]
  },
  {
   "cell_type": "code",
   "execution_count": 10,
   "id": "605ab1e2",
   "metadata": {},
   "outputs": [
    {
     "name": "stdout",
     "output_type": "stream",
     "text": [
      "10\n",
      "11\n",
      "12\n",
      "13\n",
      "14\n",
      "15\n",
      "16\n",
      "17\n",
      "18\n",
      "19\n"
     ]
    }
   ],
   "source": [
    "for num in range(10,20):\n",
    "    print(num)"
   ]
  },
  {
   "cell_type": "code",
   "execution_count": 12,
   "id": "8f997392",
   "metadata": {},
   "outputs": [
    {
     "name": "stdout",
     "output_type": "stream",
     "text": [
      "Number of items in the list: 7\n"
     ]
    }
   ],
   "source": [
    "lists=[10,20,14,55,43,87,76]\n",
    "a=int(len(lists))\n",
    "print(\"Number of items in the list:\",a)"
   ]
  },
  {
   "cell_type": "code",
   "execution_count": 11,
   "id": "945c7ccb",
   "metadata": {},
   "outputs": [
    {
     "name": "stdout",
     "output_type": "stream",
     "text": [
      "A\n",
      "R\n",
      "T\n",
      "I\n",
      "F\n",
      "I\n",
      "C\n",
      "I\n",
      "A\n",
      "L\n",
      "I\n",
      "N\n",
      "T\n",
      "E\n",
      "L\n",
      "I\n",
      "G\n",
      "E\n",
      "N\n",
      "C\n",
      "E\n"
     ]
    }
   ],
   "source": [
    "Lists=[\"A\",\"R\",\"T\",\"I\",\"F\",\"I\",\"C\",\"I\",\"A\",\"L\",\"I\",\"N\",\"T\",\"E\",\"L\",\"I\",\"G\",\"E\",\"N\",\"C\",\"E\"]\n",
    "for temp in Lists:\n",
    "    print(temp)"
   ]
  },
  {
   "cell_type": "code",
   "execution_count": 15,
   "id": "90f832c2",
   "metadata": {},
   "outputs": [
    {
     "name": "stdout",
     "output_type": "stream",
     "text": [
      "20 is even\n",
      "10 is even\n",
      "16 is even\n",
      "19 is odd\n",
      "25 is odd\n",
      "1 is odd\n",
      "276 is even\n",
      "188 is even\n"
     ]
    }
   ],
   "source": [
    "lists1=[20,10,16,19,25,1,276,188]\n",
    "for num in lists1:\n",
    "    if((num%2)==0):\n",
    "        print(num,\"is even\")\n",
    "    else:\n",
    "        print(num,\"is odd\")\n",
    "    "
   ]
  },
  {
   "cell_type": "code",
   "execution_count": 12,
   "id": "2d705325",
   "metadata": {},
   "outputs": [
    {
     "name": "stdout",
     "output_type": "stream",
     "text": [
      "1\n",
      "Welcome\n",
      "2\n",
      "Hope\n"
     ]
    }
   ],
   "source": [
    "Lists2=[1,\"Welcome\",2,\"Hope\"]\n",
    "for temp in Lists2:\n",
    "    print(temp)"
   ]
  },
  {
   "cell_type": "code",
   "execution_count": 13,
   "id": "6d0ecac7",
   "metadata": {},
   "outputs": [
    {
     "name": "stdout",
     "output_type": "stream",
     "text": [
      "0\n",
      "1\n",
      "2\n",
      "3\n",
      "Python\n",
      "Hope\n"
     ]
    }
   ],
   "source": [
    "Lists3=[0,1,2,3,\"Python\",\"Hope\"]\n",
    "for temp in Lists3:\n",
    "    print(temp)"
   ]
  },
  {
   "cell_type": "code",
   "execution_count": null,
   "id": "8e6e68ed",
   "metadata": {},
   "outputs": [],
   "source": []
  }
 ],
 "metadata": {
  "kernelspec": {
   "display_name": "Python 3 (ipykernel)",
   "language": "python",
   "name": "python3"
  },
  "language_info": {
   "codemirror_mode": {
    "name": "ipython",
    "version": 3
   },
   "file_extension": ".py",
   "mimetype": "text/x-python",
   "name": "python",
   "nbconvert_exporter": "python",
   "pygments_lexer": "ipython3",
   "version": "3.11.5"
  }
 },
 "nbformat": 4,
 "nbformat_minor": 5
}
